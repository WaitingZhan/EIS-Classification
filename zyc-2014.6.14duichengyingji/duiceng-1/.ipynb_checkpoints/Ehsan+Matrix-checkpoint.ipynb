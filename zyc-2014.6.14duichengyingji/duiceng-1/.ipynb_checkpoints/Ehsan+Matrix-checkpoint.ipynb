{
 "cells": [
  {
   "cell_type": "code",
   "execution_count": 1,
   "metadata": {
    "collapsed": true
   },
   "outputs": [],
   "source": [
    "import pandas as pd\n",
    "import seaborn as sns\n",
    "import matplotlib.pyplot as plt\n",
    "import numpy as np\n",
    "import glob\n",
    "from matplotlib import pyplot as plt\n",
    "import numpy as np\n",
    "from mpl_toolkits.mplot3d import Axes3D"
   ]
  },
  {
   "cell_type": "code",
   "execution_count": 2,
   "metadata": {
    "collapsed": true
   },
   "outputs": [],
   "source": [
    "#build an empty matrix to save frequency\n",
    "freqency_matrix=[]\n",
    "real_matrix=[]\n",
    "imaginary_matrix=[]\n",
    "Time_matrix=[]\n",
    "Time=[]\n",
    "new_Time=[]\n",
    "t=[]\n",
    "Time_seconds=[]"
   ]
  },
  {
   "cell_type": "code",
   "execution_count": 3,
   "metadata": {
    "collapsed": true
   },
   "outputs": [],
   "source": [
    "#build a matrix to save time,frequency,Real Resistance,imaginary Resistance\n",
    "number_file=0\n",
    "path ='*.txt'\n",
    "files=glob.glob(path)\n",
    "for file in files:\n",
    "    number_file=number_file+1\n",
    "    df = pd.read_csv(file,skiprows=18,sep='\\s+')\n",
    "    time=pd.read_csv(file)\n",
    "    myList = []\n",
    "    with open(file) as fp:\n",
    "        for i in range(7):\n",
    "            line=fp.readline()\n",
    "            if i==0:\n",
    "                myList.append(line[20:])\n",
    "            if i==6:\n",
    "                myList.append(line[25:])\n",
    "    freqency=df.iloc[:,1]\n",
    "    real=df.iloc[:,2]\n",
    "    imaginary=df.iloc[:,3]\n",
    "    freqency_matrix.append(freqency)\n",
    "    real_matrix.append(real)\n",
    "    imaginary_matrix.append(imaginary)\n",
    "    Time_matrix.append(myList)\n",
    "   "
   ]
  },
  {
   "cell_type": "code",
   "execution_count": 4,
   "metadata": {},
   "outputs": [
    {
     "ename": "ValueError",
     "evalue": "time data ',01.2014 21:59:02' does not match format '%m,%d.%Y %H:%M:%S'",
     "output_type": "error",
     "traceback": [
      "\u001b[0;31m---------------------------------------------------------------------------\u001b[0m",
      "\u001b[0;31mValueError\u001b[0m                                Traceback (most recent call last)",
      "\u001b[0;32m<ipython-input-4-0e9f92746da5>\u001b[0m in \u001b[0;36m<module>\u001b[0;34m()\u001b[0m\n\u001b[1;32m     10\u001b[0m \u001b[0;32mfrom\u001b[0m \u001b[0mdatetime\u001b[0m \u001b[0;32mimport\u001b[0m \u001b[0mtimedelta\u001b[0m\u001b[0;34m\u001b[0m\u001b[0m\n\u001b[1;32m     11\u001b[0m \u001b[0;32mfor\u001b[0m \u001b[0mi\u001b[0m \u001b[0;32min\u001b[0m \u001b[0mrange\u001b[0m\u001b[0;34m(\u001b[0m\u001b[0mnumber_file\u001b[0m\u001b[0;34m)\u001b[0m\u001b[0;34m:\u001b[0m\u001b[0;34m\u001b[0m\u001b[0m\n\u001b[0;32m---> 12\u001b[0;31m     \u001b[0ma\u001b[0m\u001b[0;34m=\u001b[0m\u001b[0mdatetime\u001b[0m\u001b[0;34m.\u001b[0m\u001b[0mstrptime\u001b[0m\u001b[0;34m(\u001b[0m\u001b[0mnew_Time\u001b[0m\u001b[0;34m[\u001b[0m\u001b[0mi\u001b[0m\u001b[0;34m]\u001b[0m\u001b[0;34m,\u001b[0m\u001b[0;34m\"%m,%d.%Y %H:%M:%S\"\u001b[0m\u001b[0;34m)\u001b[0m\u001b[0;34m\u001b[0m\u001b[0m\n\u001b[0m\u001b[1;32m     13\u001b[0m     \u001b[0mt\u001b[0m\u001b[0;34m.\u001b[0m\u001b[0mappend\u001b[0m\u001b[0;34m(\u001b[0m\u001b[0ma\u001b[0m\u001b[0;34m)\u001b[0m\u001b[0;34m\u001b[0m\u001b[0m\n\u001b[1;32m     14\u001b[0m \u001b[0mT\u001b[0m\u001b[0;34m=\u001b[0m\u001b[0;34m[\u001b[0m\u001b[0;34m]\u001b[0m\u001b[0;34m\u001b[0m\u001b[0m\n",
      "\u001b[0;32m~/anaconda3/lib/python3.6/_strptime.py\u001b[0m in \u001b[0;36m_strptime_datetime\u001b[0;34m(cls, data_string, format)\u001b[0m\n\u001b[1;32m    563\u001b[0m     \"\"\"Return a class cls instance based on the input string and the\n\u001b[1;32m    564\u001b[0m     format string.\"\"\"\n\u001b[0;32m--> 565\u001b[0;31m     \u001b[0mtt\u001b[0m\u001b[0;34m,\u001b[0m \u001b[0mfraction\u001b[0m \u001b[0;34m=\u001b[0m \u001b[0m_strptime\u001b[0m\u001b[0;34m(\u001b[0m\u001b[0mdata_string\u001b[0m\u001b[0;34m,\u001b[0m \u001b[0mformat\u001b[0m\u001b[0;34m)\u001b[0m\u001b[0;34m\u001b[0m\u001b[0m\n\u001b[0m\u001b[1;32m    566\u001b[0m     \u001b[0mtzname\u001b[0m\u001b[0;34m,\u001b[0m \u001b[0mgmtoff\u001b[0m \u001b[0;34m=\u001b[0m \u001b[0mtt\u001b[0m\u001b[0;34m[\u001b[0m\u001b[0;34m-\u001b[0m\u001b[0;36m2\u001b[0m\u001b[0;34m:\u001b[0m\u001b[0;34m]\u001b[0m\u001b[0;34m\u001b[0m\u001b[0m\n\u001b[1;32m    567\u001b[0m     \u001b[0margs\u001b[0m \u001b[0;34m=\u001b[0m \u001b[0mtt\u001b[0m\u001b[0;34m[\u001b[0m\u001b[0;34m:\u001b[0m\u001b[0;36m6\u001b[0m\u001b[0;34m]\u001b[0m \u001b[0;34m+\u001b[0m \u001b[0;34m(\u001b[0m\u001b[0mfraction\u001b[0m\u001b[0;34m,\u001b[0m\u001b[0;34m)\u001b[0m\u001b[0;34m\u001b[0m\u001b[0m\n",
      "\u001b[0;32m~/anaconda3/lib/python3.6/_strptime.py\u001b[0m in \u001b[0;36m_strptime\u001b[0;34m(data_string, format)\u001b[0m\n\u001b[1;32m    360\u001b[0m     \u001b[0;32mif\u001b[0m \u001b[0;32mnot\u001b[0m \u001b[0mfound\u001b[0m\u001b[0;34m:\u001b[0m\u001b[0;34m\u001b[0m\u001b[0m\n\u001b[1;32m    361\u001b[0m         raise ValueError(\"time data %r does not match format %r\" %\n\u001b[0;32m--> 362\u001b[0;31m                          (data_string, format))\n\u001b[0m\u001b[1;32m    363\u001b[0m     \u001b[0;32mif\u001b[0m \u001b[0mlen\u001b[0m\u001b[0;34m(\u001b[0m\u001b[0mdata_string\u001b[0m\u001b[0;34m)\u001b[0m \u001b[0;34m!=\u001b[0m \u001b[0mfound\u001b[0m\u001b[0;34m.\u001b[0m\u001b[0mend\u001b[0m\u001b[0;34m(\u001b[0m\u001b[0;34m)\u001b[0m\u001b[0;34m:\u001b[0m\u001b[0;34m\u001b[0m\u001b[0m\n\u001b[1;32m    364\u001b[0m         raise ValueError(\"unconverted data remains: %s\" %\n",
      "\u001b[0;31mValueError\u001b[0m: time data ',01.2014 21:59:02' does not match format '%m,%d.%Y %H:%M:%S'"
     ]
    }
   ],
   "source": [
    "# caculate the time\n",
    "for i in range(number_file):\n",
    "    T=Time_matrix[i][0][-12:-1]+' '+Time_matrix[i][1][:-1]\n",
    "    Time.append(T)\n",
    "for i in range(number_file):\n",
    "    a=Time[i]\n",
    "    c = a.replace('JAN','01').replace('FEB','02').replace('MAR','03').replace('APR','04').replace('MAY','05').replace('JUN','06').replace('JUL','07').replace('AUG','08').replace('SEP','09').replace('OCT','10').replace('NOV','11').replace('DEC','12')\n",
    "    new_Time.append(c)\n",
    "from datetime import datetime\n",
    "from datetime import timedelta\n",
    "for i in range(number_file):\n",
    "    a=datetime.strptime(new_Time[i],\"%m,%d.%Y %H:%M:%S\")\n",
    "    t.append(a)\n",
    "T=[]\n",
    "for i in range(number_file):\n",
    "    a=t[i]-min(t)\n",
    "    T.append(a)\n",
    "for i in range(number_file):\n",
    "    a=timedelta.total_seconds(T[i])\n",
    "    Time_seconds.append(a)"
   ]
  },
  {
   "cell_type": "code",
   "execution_count": null,
   "metadata": {
    "collapsed": true
   },
   "outputs": [],
   "source": [
    "#Time_seconds"
   ]
  },
  {
   "cell_type": "code",
   "execution_count": null,
   "metadata": {
    "collapsed": true
   },
   "outputs": [],
   "source": [
    "Data_matrix=[]\n",
    "D0=[]\n",
    "D1=[]\n",
    "D2=[]\n",
    "D3=[]\n",
    "for i in range(number_file):\n",
    "    X = freqency_matrix[i] \n",
    "    Y = real_matrix[i]\n",
    "    Z = real_matrix[i]\n",
    "    for j in range(len(X)):\n",
    "        fre = X[j]\n",
    "        real = Y[j]\n",
    "        ima = Z[j]\n",
    "        for k in range(number_file):\n",
    "            try:\n",
    "                D0.extend(fre)\n",
    "                D2.extend(real)\n",
    "                D3.extend(ima)\n",
    "            except TypeError:\n",
    "                D0.append(fre)\n",
    "                D2.append(real)\n",
    "                D3.append(ima)\n",
    "            T = Time_seconds\n",
    "            D1.append(T)"
   ]
  },
  {
   "cell_type": "code",
   "execution_count": null,
   "metadata": {},
   "outputs": [],
   "source": [
    "print(len(D0))\n",
    "print(len(D1))\n",
    "print(len(D2))\n",
    "print(len(D3))"
   ]
  },
  {
   "cell_type": "code",
   "execution_count": null,
   "metadata": {
    "collapsed": true
   },
   "outputs": [],
   "source": [
    "# 3-d plot"
   ]
  },
  {
   "cell_type": "code",
   "execution_count": null,
   "metadata": {},
   "outputs": [],
   "source": [
    "fig = plt.figure()\n",
    "ax = Axes3D(fig)\n",
    "\n",
    "for i in range(1, number_file):\n",
    "    X = freqency_matrix[i]\n",
    "    Y = real_matrix[i]\n",
    "    Z = imaginary_matrix[i]\n",
    "    for c, m, zlow, zhigh in [('r', 'o', -50, -25), ('b', '^', -30, -5)]:\n",
    "        ax.scatter(X,Y,-Z, c=(0.01*i, 1/i, 0.04/i), marker=m)\n",
    "\n",
    "ax.set_xlabel('freqency')\n",
    "ax.set_ylabel('real resistance')\n",
    "ax.set_zlabel('imaginary resistance')\n",
    "plt.show()"
   ]
  },
  {
   "cell_type": "code",
   "execution_count": null,
   "metadata": {},
   "outputs": [],
   "source": [
    "fig = plt.figure()\n",
    "ax = plt.gca()\n",
    "\n",
    "for i in range(number_file): \n",
    "    X = freqency_matrix[i]\n",
    "    Y = real_matrix[i]\n",
    "    Z = imaginary_matrix[i]\n",
    "    ax.scatter(X,Y)\n",
    "ax.set_xscale('log')\n",
    "plt.show()"
   ]
  },
  {
   "cell_type": "code",
   "execution_count": null,
   "metadata": {},
   "outputs": [],
   "source": [
    "fig = plt.figure()\n",
    "ax = plt.gca()\n",
    "\n",
    "for i in range(number_file): \n",
    "    X = freqency_matrix[i]\n",
    "    Y = real_matrix[i]\n",
    "    Z = imaginary_matrix[i]\n",
    "    ax.scatter(X,-Z)\n",
    "ax.set_xscale('log')\n",
    "plt.show()\n"
   ]
  }
 ],
 "metadata": {
  "kernelspec": {
   "display_name": "Python 3",
   "language": "python",
   "name": "python3"
  },
  "language_info": {
   "codemirror_mode": {
    "name": "ipython",
    "version": 3
   },
   "file_extension": ".py",
   "mimetype": "text/x-python",
   "name": "python",
   "nbconvert_exporter": "python",
   "pygments_lexer": "ipython3",
   "version": "3.6.2"
  }
 },
 "nbformat": 4,
 "nbformat_minor": 2
}
