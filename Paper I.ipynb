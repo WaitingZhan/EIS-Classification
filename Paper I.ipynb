{
 "cells": [
  {
   "cell_type": "code",
   "execution_count": 1,
   "metadata": {},
   "outputs": [],
   "source": [
    "import pandas as pd \n",
    "import numpy as np\n",
    "import matplotlib.pyplot as plt\n",
    "import seaborn as sns\n",
    "from time import time\n",
    "from sklearn.model_selection import train_test_split\n",
    "from sklearn import preprocessing\n",
    "from sklearn import tree\n",
    "from sklearn.ensemble import RandomForestClassifier\n",
    "from sklearn.neural_network import MLPClassifier\n",
    "from sklearn.metrics import classification_report, accuracy_score"
   ]
  },
  {
   "cell_type": "markdown",
   "metadata": {},
   "source": [
    "# 1. orgnize the data"
   ]
  },
  {
   "cell_type": "code",
   "execution_count": 2,
   "metadata": {},
   "outputs": [
    {
     "data": {
      "text/html": [
       "<div>\n",
       "<style scoped>\n",
       "    .dataframe tbody tr th:only-of-type {\n",
       "        vertical-align: middle;\n",
       "    }\n",
       "\n",
       "    .dataframe tbody tr th {\n",
       "        vertical-align: top;\n",
       "    }\n",
       "\n",
       "    .dataframe thead th {\n",
       "        text-align: right;\n",
       "    }\n",
       "</style>\n",
       "<table border=\"1\" class=\"dataframe\">\n",
       "  <thead>\n",
       "    <tr style=\"text-align: right;\">\n",
       "      <th></th>\n",
       "      <th>Unnamed: 0</th>\n",
       "      <th>label</th>\n",
       "      <th>0</th>\n",
       "      <th>1</th>\n",
       "      <th>2</th>\n",
       "      <th>3</th>\n",
       "      <th>4</th>\n",
       "      <th>5</th>\n",
       "      <th>6</th>\n",
       "      <th>7</th>\n",
       "      <th>...</th>\n",
       "      <th>52</th>\n",
       "      <th>44.1</th>\n",
       "      <th>45.1</th>\n",
       "      <th>46.1</th>\n",
       "      <th>47.1</th>\n",
       "      <th>48.1</th>\n",
       "      <th>49.1</th>\n",
       "      <th>50.1</th>\n",
       "      <th>51.1</th>\n",
       "      <th>52.1</th>\n",
       "    </tr>\n",
       "  </thead>\n",
       "  <tbody>\n",
       "    <tr>\n",
       "      <th>0</th>\n",
       "      <td>0</td>\n",
       "      <td>1</td>\n",
       "      <td>0.047597</td>\n",
       "      <td>-0.006556</td>\n",
       "      <td>-0.068768</td>\n",
       "      <td>-0.12826</td>\n",
       "      <td>-0.125710</td>\n",
       "      <td>-0.243930</td>\n",
       "      <td>-0.265680</td>\n",
       "      <td>-0.321040</td>\n",
       "      <td>...</td>\n",
       "      <td>NaN</td>\n",
       "      <td>NaN</td>\n",
       "      <td>NaN</td>\n",
       "      <td>NaN</td>\n",
       "      <td>NaN</td>\n",
       "      <td>NaN</td>\n",
       "      <td>NaN</td>\n",
       "      <td>NaN</td>\n",
       "      <td>NaN</td>\n",
       "      <td>NaN</td>\n",
       "    </tr>\n",
       "    <tr>\n",
       "      <th>1</th>\n",
       "      <td>1</td>\n",
       "      <td>1</td>\n",
       "      <td>0.115820</td>\n",
       "      <td>0.012426</td>\n",
       "      <td>-0.041814</td>\n",
       "      <td>-0.12696</td>\n",
       "      <td>-0.162290</td>\n",
       "      <td>-0.231690</td>\n",
       "      <td>-0.267640</td>\n",
       "      <td>-0.310410</td>\n",
       "      <td>...</td>\n",
       "      <td>NaN</td>\n",
       "      <td>NaN</td>\n",
       "      <td>NaN</td>\n",
       "      <td>NaN</td>\n",
       "      <td>NaN</td>\n",
       "      <td>NaN</td>\n",
       "      <td>NaN</td>\n",
       "      <td>NaN</td>\n",
       "      <td>NaN</td>\n",
       "      <td>NaN</td>\n",
       "    </tr>\n",
       "    <tr>\n",
       "      <th>2</th>\n",
       "      <td>2</td>\n",
       "      <td>1</td>\n",
       "      <td>0.411720</td>\n",
       "      <td>0.269350</td>\n",
       "      <td>0.175000</td>\n",
       "      <td>0.07999</td>\n",
       "      <td>0.004176</td>\n",
       "      <td>-0.066242</td>\n",
       "      <td>-0.120600</td>\n",
       "      <td>-0.166780</td>\n",
       "      <td>...</td>\n",
       "      <td>NaN</td>\n",
       "      <td>NaN</td>\n",
       "      <td>NaN</td>\n",
       "      <td>NaN</td>\n",
       "      <td>NaN</td>\n",
       "      <td>NaN</td>\n",
       "      <td>NaN</td>\n",
       "      <td>NaN</td>\n",
       "      <td>NaN</td>\n",
       "      <td>NaN</td>\n",
       "    </tr>\n",
       "    <tr>\n",
       "      <th>3</th>\n",
       "      <td>3</td>\n",
       "      <td>1</td>\n",
       "      <td>0.042044</td>\n",
       "      <td>-0.058436</td>\n",
       "      <td>-0.099432</td>\n",
       "      <td>-0.15427</td>\n",
       "      <td>-0.201070</td>\n",
       "      <td>-0.230130</td>\n",
       "      <td>-0.292180</td>\n",
       "      <td>-0.343190</td>\n",
       "      <td>...</td>\n",
       "      <td>NaN</td>\n",
       "      <td>NaN</td>\n",
       "      <td>NaN</td>\n",
       "      <td>NaN</td>\n",
       "      <td>NaN</td>\n",
       "      <td>NaN</td>\n",
       "      <td>NaN</td>\n",
       "      <td>NaN</td>\n",
       "      <td>NaN</td>\n",
       "      <td>NaN</td>\n",
       "    </tr>\n",
       "    <tr>\n",
       "      <th>4</th>\n",
       "      <td>4</td>\n",
       "      <td>1</td>\n",
       "      <td>0.741100</td>\n",
       "      <td>0.555860</td>\n",
       "      <td>0.375010</td>\n",
       "      <td>0.25047</td>\n",
       "      <td>0.125910</td>\n",
       "      <td>0.025223</td>\n",
       "      <td>-0.048146</td>\n",
       "      <td>-0.088785</td>\n",
       "      <td>...</td>\n",
       "      <td>NaN</td>\n",
       "      <td>NaN</td>\n",
       "      <td>NaN</td>\n",
       "      <td>NaN</td>\n",
       "      <td>NaN</td>\n",
       "      <td>NaN</td>\n",
       "      <td>NaN</td>\n",
       "      <td>NaN</td>\n",
       "      <td>NaN</td>\n",
       "      <td>NaN</td>\n",
       "    </tr>\n",
       "  </tbody>\n",
       "</table>\n",
       "<p>5 rows × 108 columns</p>\n",
       "</div>"
      ],
      "text/plain": [
       "   Unnamed: 0  label         0         1         2        3         4  \\\n",
       "0           0      1  0.047597 -0.006556 -0.068768 -0.12826 -0.125710   \n",
       "1           1      1  0.115820  0.012426 -0.041814 -0.12696 -0.162290   \n",
       "2           2      1  0.411720  0.269350  0.175000  0.07999  0.004176   \n",
       "3           3      1  0.042044 -0.058436 -0.099432 -0.15427 -0.201070   \n",
       "4           4      1  0.741100  0.555860  0.375010  0.25047  0.125910   \n",
       "\n",
       "          5         6         7  ...   52  44.1  45.1  46.1  47.1  48.1  49.1  \\\n",
       "0 -0.243930 -0.265680 -0.321040  ...  NaN   NaN   NaN   NaN   NaN   NaN   NaN   \n",
       "1 -0.231690 -0.267640 -0.310410  ...  NaN   NaN   NaN   NaN   NaN   NaN   NaN   \n",
       "2 -0.066242 -0.120600 -0.166780  ...  NaN   NaN   NaN   NaN   NaN   NaN   NaN   \n",
       "3 -0.230130 -0.292180 -0.343190  ...  NaN   NaN   NaN   NaN   NaN   NaN   NaN   \n",
       "4  0.025223 -0.048146 -0.088785  ...  NaN   NaN   NaN   NaN   NaN   NaN   NaN   \n",
       "\n",
       "   50.1  51.1  52.1  \n",
       "0   NaN   NaN   NaN  \n",
       "1   NaN   NaN   NaN  \n",
       "2   NaN   NaN   NaN  \n",
       "3   NaN   NaN   NaN  \n",
       "4   NaN   NaN   NaN  \n",
       "\n",
       "[5 rows x 108 columns]"
      ]
     },
     "execution_count": 2,
     "metadata": {},
     "output_type": "execute_result"
    }
   ],
   "source": [
    "import pandas as pd\n",
    "df = pd.read_csv(\"./NewData/label/data.csv\")\n",
    "df.head()"
   ]
  },
  {
   "cell_type": "code",
   "execution_count": 3,
   "metadata": {},
   "outputs": [
    {
     "data": {
      "text/html": [
       "<div>\n",
       "<style scoped>\n",
       "    .dataframe tbody tr th:only-of-type {\n",
       "        vertical-align: middle;\n",
       "    }\n",
       "\n",
       "    .dataframe tbody tr th {\n",
       "        vertical-align: top;\n",
       "    }\n",
       "\n",
       "    .dataframe thead th {\n",
       "        text-align: right;\n",
       "    }\n",
       "</style>\n",
       "<table border=\"1\" class=\"dataframe\">\n",
       "  <thead>\n",
       "    <tr style=\"text-align: right;\">\n",
       "      <th></th>\n",
       "      <th>label</th>\n",
       "      <th>0</th>\n",
       "      <th>1</th>\n",
       "      <th>2</th>\n",
       "      <th>3</th>\n",
       "      <th>4</th>\n",
       "      <th>5</th>\n",
       "      <th>6</th>\n",
       "      <th>7</th>\n",
       "      <th>8</th>\n",
       "      <th>...</th>\n",
       "      <th>52</th>\n",
       "      <th>44.1</th>\n",
       "      <th>45.1</th>\n",
       "      <th>46.1</th>\n",
       "      <th>47.1</th>\n",
       "      <th>48.1</th>\n",
       "      <th>49.1</th>\n",
       "      <th>50.1</th>\n",
       "      <th>51.1</th>\n",
       "      <th>52.1</th>\n",
       "    </tr>\n",
       "  </thead>\n",
       "  <tbody>\n",
       "    <tr>\n",
       "      <th>0</th>\n",
       "      <td>1</td>\n",
       "      <td>0.047597</td>\n",
       "      <td>-0.006556</td>\n",
       "      <td>-0.068768</td>\n",
       "      <td>-0.12826</td>\n",
       "      <td>-0.125710</td>\n",
       "      <td>-0.243930</td>\n",
       "      <td>-0.265680</td>\n",
       "      <td>-0.321040</td>\n",
       "      <td>-0.33509</td>\n",
       "      <td>...</td>\n",
       "      <td>NaN</td>\n",
       "      <td>NaN</td>\n",
       "      <td>NaN</td>\n",
       "      <td>NaN</td>\n",
       "      <td>NaN</td>\n",
       "      <td>NaN</td>\n",
       "      <td>NaN</td>\n",
       "      <td>NaN</td>\n",
       "      <td>NaN</td>\n",
       "      <td>NaN</td>\n",
       "    </tr>\n",
       "    <tr>\n",
       "      <th>1</th>\n",
       "      <td>1</td>\n",
       "      <td>0.115820</td>\n",
       "      <td>0.012426</td>\n",
       "      <td>-0.041814</td>\n",
       "      <td>-0.12696</td>\n",
       "      <td>-0.162290</td>\n",
       "      <td>-0.231690</td>\n",
       "      <td>-0.267640</td>\n",
       "      <td>-0.310410</td>\n",
       "      <td>-0.35092</td>\n",
       "      <td>...</td>\n",
       "      <td>NaN</td>\n",
       "      <td>NaN</td>\n",
       "      <td>NaN</td>\n",
       "      <td>NaN</td>\n",
       "      <td>NaN</td>\n",
       "      <td>NaN</td>\n",
       "      <td>NaN</td>\n",
       "      <td>NaN</td>\n",
       "      <td>NaN</td>\n",
       "      <td>NaN</td>\n",
       "    </tr>\n",
       "    <tr>\n",
       "      <th>2</th>\n",
       "      <td>1</td>\n",
       "      <td>0.411720</td>\n",
       "      <td>0.269350</td>\n",
       "      <td>0.175000</td>\n",
       "      <td>0.07999</td>\n",
       "      <td>0.004176</td>\n",
       "      <td>-0.066242</td>\n",
       "      <td>-0.120600</td>\n",
       "      <td>-0.166780</td>\n",
       "      <td>-0.21644</td>\n",
       "      <td>...</td>\n",
       "      <td>NaN</td>\n",
       "      <td>NaN</td>\n",
       "      <td>NaN</td>\n",
       "      <td>NaN</td>\n",
       "      <td>NaN</td>\n",
       "      <td>NaN</td>\n",
       "      <td>NaN</td>\n",
       "      <td>NaN</td>\n",
       "      <td>NaN</td>\n",
       "      <td>NaN</td>\n",
       "    </tr>\n",
       "    <tr>\n",
       "      <th>3</th>\n",
       "      <td>1</td>\n",
       "      <td>0.042044</td>\n",
       "      <td>-0.058436</td>\n",
       "      <td>-0.099432</td>\n",
       "      <td>-0.15427</td>\n",
       "      <td>-0.201070</td>\n",
       "      <td>-0.230130</td>\n",
       "      <td>-0.292180</td>\n",
       "      <td>-0.343190</td>\n",
       "      <td>-0.36422</td>\n",
       "      <td>...</td>\n",
       "      <td>NaN</td>\n",
       "      <td>NaN</td>\n",
       "      <td>NaN</td>\n",
       "      <td>NaN</td>\n",
       "      <td>NaN</td>\n",
       "      <td>NaN</td>\n",
       "      <td>NaN</td>\n",
       "      <td>NaN</td>\n",
       "      <td>NaN</td>\n",
       "      <td>NaN</td>\n",
       "    </tr>\n",
       "    <tr>\n",
       "      <th>4</th>\n",
       "      <td>1</td>\n",
       "      <td>0.741100</td>\n",
       "      <td>0.555860</td>\n",
       "      <td>0.375010</td>\n",
       "      <td>0.25047</td>\n",
       "      <td>0.125910</td>\n",
       "      <td>0.025223</td>\n",
       "      <td>-0.048146</td>\n",
       "      <td>-0.088785</td>\n",
       "      <td>-0.13752</td>\n",
       "      <td>...</td>\n",
       "      <td>NaN</td>\n",
       "      <td>NaN</td>\n",
       "      <td>NaN</td>\n",
       "      <td>NaN</td>\n",
       "      <td>NaN</td>\n",
       "      <td>NaN</td>\n",
       "      <td>NaN</td>\n",
       "      <td>NaN</td>\n",
       "      <td>NaN</td>\n",
       "      <td>NaN</td>\n",
       "    </tr>\n",
       "  </tbody>\n",
       "</table>\n",
       "<p>5 rows × 107 columns</p>\n",
       "</div>"
      ],
      "text/plain": [
       "   label         0         1         2        3         4         5         6  \\\n",
       "0      1  0.047597 -0.006556 -0.068768 -0.12826 -0.125710 -0.243930 -0.265680   \n",
       "1      1  0.115820  0.012426 -0.041814 -0.12696 -0.162290 -0.231690 -0.267640   \n",
       "2      1  0.411720  0.269350  0.175000  0.07999  0.004176 -0.066242 -0.120600   \n",
       "3      1  0.042044 -0.058436 -0.099432 -0.15427 -0.201070 -0.230130 -0.292180   \n",
       "4      1  0.741100  0.555860  0.375010  0.25047  0.125910  0.025223 -0.048146   \n",
       "\n",
       "          7        8  ...   52  44.1  45.1  46.1  47.1  48.1  49.1  50.1  \\\n",
       "0 -0.321040 -0.33509  ...  NaN   NaN   NaN   NaN   NaN   NaN   NaN   NaN   \n",
       "1 -0.310410 -0.35092  ...  NaN   NaN   NaN   NaN   NaN   NaN   NaN   NaN   \n",
       "2 -0.166780 -0.21644  ...  NaN   NaN   NaN   NaN   NaN   NaN   NaN   NaN   \n",
       "3 -0.343190 -0.36422  ...  NaN   NaN   NaN   NaN   NaN   NaN   NaN   NaN   \n",
       "4 -0.088785 -0.13752  ...  NaN   NaN   NaN   NaN   NaN   NaN   NaN   NaN   \n",
       "\n",
       "   51.1  52.1  \n",
       "0   NaN   NaN  \n",
       "1   NaN   NaN  \n",
       "2   NaN   NaN  \n",
       "3   NaN   NaN  \n",
       "4   NaN   NaN  \n",
       "\n",
       "[5 rows x 107 columns]"
      ]
     },
     "execution_count": 3,
     "metadata": {},
     "output_type": "execute_result"
    }
   ],
   "source": [
    "df = df.drop(df.columns[0], axis=1)\n",
    "df.head()"
   ]
  },
  {
   "cell_type": "code",
   "execution_count": 4,
   "metadata": {},
   "outputs": [
    {
     "data": {
      "text/html": [
       "<div>\n",
       "<style scoped>\n",
       "    .dataframe tbody tr th:only-of-type {\n",
       "        vertical-align: middle;\n",
       "    }\n",
       "\n",
       "    .dataframe tbody tr th {\n",
       "        vertical-align: top;\n",
       "    }\n",
       "\n",
       "    .dataframe thead th {\n",
       "        text-align: right;\n",
       "    }\n",
       "</style>\n",
       "<table border=\"1\" class=\"dataframe\">\n",
       "  <thead>\n",
       "    <tr style=\"text-align: right;\">\n",
       "      <th></th>\n",
       "      <th>label</th>\n",
       "      <th>0</th>\n",
       "      <th>1</th>\n",
       "      <th>2</th>\n",
       "      <th>3</th>\n",
       "      <th>4</th>\n",
       "      <th>5</th>\n",
       "      <th>6</th>\n",
       "      <th>7</th>\n",
       "      <th>8</th>\n",
       "      <th>...</th>\n",
       "      <th>52</th>\n",
       "      <th>44.1</th>\n",
       "      <th>45.1</th>\n",
       "      <th>46.1</th>\n",
       "      <th>47.1</th>\n",
       "      <th>48.1</th>\n",
       "      <th>49.1</th>\n",
       "      <th>50.1</th>\n",
       "      <th>51.1</th>\n",
       "      <th>52.1</th>\n",
       "    </tr>\n",
       "  </thead>\n",
       "  <tbody>\n",
       "    <tr>\n",
       "      <th>count</th>\n",
       "      <td>324.000000</td>\n",
       "      <td>324.000000</td>\n",
       "      <td>324.000000</td>\n",
       "      <td>324.000000</td>\n",
       "      <td>324.000000</td>\n",
       "      <td>324.000000</td>\n",
       "      <td>324.000000</td>\n",
       "      <td>324.000000</td>\n",
       "      <td>324.000000</td>\n",
       "      <td>324.000000</td>\n",
       "      <td>...</td>\n",
       "      <td>82.000000</td>\n",
       "      <td>82.000000</td>\n",
       "      <td>82.000000</td>\n",
       "      <td>82.000000</td>\n",
       "      <td>82.000000</td>\n",
       "      <td>82.000000</td>\n",
       "      <td>82.000000</td>\n",
       "      <td>82.000000</td>\n",
       "      <td>82.000000</td>\n",
       "      <td>82.000000</td>\n",
       "    </tr>\n",
       "    <tr>\n",
       "      <th>mean</th>\n",
       "      <td>1.944444</td>\n",
       "      <td>0.280811</td>\n",
       "      <td>0.180896</td>\n",
       "      <td>0.092585</td>\n",
       "      <td>0.019330</td>\n",
       "      <td>-0.043716</td>\n",
       "      <td>-0.099811</td>\n",
       "      <td>-0.150496</td>\n",
       "      <td>-0.194402</td>\n",
       "      <td>-0.234862</td>\n",
       "      <td>...</td>\n",
       "      <td>-0.048767</td>\n",
       "      <td>11.555694</td>\n",
       "      <td>11.837246</td>\n",
       "      <td>12.056230</td>\n",
       "      <td>12.209396</td>\n",
       "      <td>12.303965</td>\n",
       "      <td>12.351109</td>\n",
       "      <td>12.403651</td>\n",
       "      <td>12.421913</td>\n",
       "      <td>12.390560</td>\n",
       "    </tr>\n",
       "    <tr>\n",
       "      <th>std</th>\n",
       "      <td>0.863788</td>\n",
       "      <td>0.211050</td>\n",
       "      <td>0.120204</td>\n",
       "      <td>0.099960</td>\n",
       "      <td>0.090086</td>\n",
       "      <td>0.085005</td>\n",
       "      <td>0.087188</td>\n",
       "      <td>0.092244</td>\n",
       "      <td>0.101347</td>\n",
       "      <td>0.111373</td>\n",
       "      <td>...</td>\n",
       "      <td>0.034806</td>\n",
       "      <td>1.476050</td>\n",
       "      <td>1.663259</td>\n",
       "      <td>1.824835</td>\n",
       "      <td>1.941438</td>\n",
       "      <td>2.007385</td>\n",
       "      <td>2.028440</td>\n",
       "      <td>2.051566</td>\n",
       "      <td>2.098399</td>\n",
       "      <td>2.043916</td>\n",
       "    </tr>\n",
       "    <tr>\n",
       "      <th>min</th>\n",
       "      <td>1.000000</td>\n",
       "      <td>-2.300700</td>\n",
       "      <td>-0.121360</td>\n",
       "      <td>-0.190330</td>\n",
       "      <td>-0.238790</td>\n",
       "      <td>-0.307040</td>\n",
       "      <td>-0.345570</td>\n",
       "      <td>-0.392140</td>\n",
       "      <td>-0.420340</td>\n",
       "      <td>-0.479230</td>\n",
       "      <td>...</td>\n",
       "      <td>-0.167050</td>\n",
       "      <td>9.129900</td>\n",
       "      <td>9.132300</td>\n",
       "      <td>9.121200</td>\n",
       "      <td>9.117200</td>\n",
       "      <td>9.134600</td>\n",
       "      <td>9.128100</td>\n",
       "      <td>9.219700</td>\n",
       "      <td>9.085500</td>\n",
       "      <td>9.210300</td>\n",
       "    </tr>\n",
       "    <tr>\n",
       "      <th>25%</th>\n",
       "      <td>1.000000</td>\n",
       "      <td>0.214938</td>\n",
       "      <td>0.125907</td>\n",
       "      <td>0.037654</td>\n",
       "      <td>-0.045614</td>\n",
       "      <td>-0.109003</td>\n",
       "      <td>-0.167340</td>\n",
       "      <td>-0.233400</td>\n",
       "      <td>-0.296872</td>\n",
       "      <td>-0.347753</td>\n",
       "      <td>...</td>\n",
       "      <td>-0.074370</td>\n",
       "      <td>9.915400</td>\n",
       "      <td>9.999875</td>\n",
       "      <td>10.047750</td>\n",
       "      <td>10.044500</td>\n",
       "      <td>10.031000</td>\n",
       "      <td>10.063750</td>\n",
       "      <td>10.139500</td>\n",
       "      <td>10.126250</td>\n",
       "      <td>10.134500</td>\n",
       "    </tr>\n",
       "    <tr>\n",
       "      <th>50%</th>\n",
       "      <td>2.000000</td>\n",
       "      <td>0.293800</td>\n",
       "      <td>0.183230</td>\n",
       "      <td>0.098956</td>\n",
       "      <td>0.020137</td>\n",
       "      <td>-0.043479</td>\n",
       "      <td>-0.088809</td>\n",
       "      <td>-0.140880</td>\n",
       "      <td>-0.185640</td>\n",
       "      <td>-0.215790</td>\n",
       "      <td>...</td>\n",
       "      <td>-0.044579</td>\n",
       "      <td>12.110000</td>\n",
       "      <td>12.401500</td>\n",
       "      <td>12.619000</td>\n",
       "      <td>12.767500</td>\n",
       "      <td>12.905000</td>\n",
       "      <td>12.901500</td>\n",
       "      <td>12.827000</td>\n",
       "      <td>12.883000</td>\n",
       "      <td>13.010500</td>\n",
       "    </tr>\n",
       "    <tr>\n",
       "      <th>75%</th>\n",
       "      <td>3.000000</td>\n",
       "      <td>0.364865</td>\n",
       "      <td>0.247067</td>\n",
       "      <td>0.150050</td>\n",
       "      <td>0.073701</td>\n",
       "      <td>0.017051</td>\n",
       "      <td>-0.029327</td>\n",
       "      <td>-0.070716</td>\n",
       "      <td>-0.101360</td>\n",
       "      <td>-0.128177</td>\n",
       "      <td>...</td>\n",
       "      <td>-0.016409</td>\n",
       "      <td>12.748000</td>\n",
       "      <td>13.239750</td>\n",
       "      <td>13.587750</td>\n",
       "      <td>13.885250</td>\n",
       "      <td>14.126250</td>\n",
       "      <td>14.185250</td>\n",
       "      <td>14.018000</td>\n",
       "      <td>14.083500</td>\n",
       "      <td>14.176250</td>\n",
       "    </tr>\n",
       "    <tr>\n",
       "      <th>max</th>\n",
       "      <td>3.000000</td>\n",
       "      <td>0.789940</td>\n",
       "      <td>0.586010</td>\n",
       "      <td>0.405740</td>\n",
       "      <td>0.420810</td>\n",
       "      <td>0.278090</td>\n",
       "      <td>0.173750</td>\n",
       "      <td>0.081850</td>\n",
       "      <td>0.022787</td>\n",
       "      <td>-0.022686</td>\n",
       "      <td>...</td>\n",
       "      <td>-0.001746</td>\n",
       "      <td>13.773000</td>\n",
       "      <td>14.335000</td>\n",
       "      <td>14.790000</td>\n",
       "      <td>15.110000</td>\n",
       "      <td>15.344000</td>\n",
       "      <td>15.636000</td>\n",
       "      <td>15.953000</td>\n",
       "      <td>15.846000</td>\n",
       "      <td>15.753000</td>\n",
       "    </tr>\n",
       "  </tbody>\n",
       "</table>\n",
       "<p>8 rows × 107 columns</p>\n",
       "</div>"
      ],
      "text/plain": [
       "            label           0           1           2           3           4  \\\n",
       "count  324.000000  324.000000  324.000000  324.000000  324.000000  324.000000   \n",
       "mean     1.944444    0.280811    0.180896    0.092585    0.019330   -0.043716   \n",
       "std      0.863788    0.211050    0.120204    0.099960    0.090086    0.085005   \n",
       "min      1.000000   -2.300700   -0.121360   -0.190330   -0.238790   -0.307040   \n",
       "25%      1.000000    0.214938    0.125907    0.037654   -0.045614   -0.109003   \n",
       "50%      2.000000    0.293800    0.183230    0.098956    0.020137   -0.043479   \n",
       "75%      3.000000    0.364865    0.247067    0.150050    0.073701    0.017051   \n",
       "max      3.000000    0.789940    0.586010    0.405740    0.420810    0.278090   \n",
       "\n",
       "                5           6           7           8    ...             52  \\\n",
       "count  324.000000  324.000000  324.000000  324.000000    ...      82.000000   \n",
       "mean    -0.099811   -0.150496   -0.194402   -0.234862    ...      -0.048767   \n",
       "std      0.087188    0.092244    0.101347    0.111373    ...       0.034806   \n",
       "min     -0.345570   -0.392140   -0.420340   -0.479230    ...      -0.167050   \n",
       "25%     -0.167340   -0.233400   -0.296872   -0.347753    ...      -0.074370   \n",
       "50%     -0.088809   -0.140880   -0.185640   -0.215790    ...      -0.044579   \n",
       "75%     -0.029327   -0.070716   -0.101360   -0.128177    ...      -0.016409   \n",
       "max      0.173750    0.081850    0.022787   -0.022686    ...      -0.001746   \n",
       "\n",
       "            44.1       45.1       46.1       47.1       48.1       49.1  \\\n",
       "count  82.000000  82.000000  82.000000  82.000000  82.000000  82.000000   \n",
       "mean   11.555694  11.837246  12.056230  12.209396  12.303965  12.351109   \n",
       "std     1.476050   1.663259   1.824835   1.941438   2.007385   2.028440   \n",
       "min     9.129900   9.132300   9.121200   9.117200   9.134600   9.128100   \n",
       "25%     9.915400   9.999875  10.047750  10.044500  10.031000  10.063750   \n",
       "50%    12.110000  12.401500  12.619000  12.767500  12.905000  12.901500   \n",
       "75%    12.748000  13.239750  13.587750  13.885250  14.126250  14.185250   \n",
       "max    13.773000  14.335000  14.790000  15.110000  15.344000  15.636000   \n",
       "\n",
       "            50.1       51.1       52.1  \n",
       "count  82.000000  82.000000  82.000000  \n",
       "mean   12.403651  12.421913  12.390560  \n",
       "std     2.051566   2.098399   2.043916  \n",
       "min     9.219700   9.085500   9.210300  \n",
       "25%    10.139500  10.126250  10.134500  \n",
       "50%    12.827000  12.883000  13.010500  \n",
       "75%    14.018000  14.083500  14.176250  \n",
       "max    15.953000  15.846000  15.753000  \n",
       "\n",
       "[8 rows x 107 columns]"
      ]
     },
     "execution_count": 4,
     "metadata": {},
     "output_type": "execute_result"
    }
   ],
   "source": [
    "df.describe()"
   ]
  },
  {
   "cell_type": "code",
   "execution_count": 5,
   "metadata": {},
   "outputs": [],
   "source": [
    "X = df.drop(df.columns[0], axis=1).dropna(axis=1)"
   ]
  },
  {
   "cell_type": "code",
   "execution_count": 25,
   "metadata": {},
   "outputs": [],
   "source": [
    "# X "
   ]
  },
  {
   "cell_type": "code",
   "execution_count": 26,
   "metadata": {},
   "outputs": [],
   "source": [
    "y = df.drop(df.columns[1:], axis=1)"
   ]
  },
  {
   "cell_type": "code",
   "execution_count": 27,
   "metadata": {},
   "outputs": [],
   "source": [
    "# y"
   ]
  },
  {
   "cell_type": "markdown",
   "metadata": {},
   "source": [
    "# 2. split the data into 50% training data, 20 % validation data, 30 % final test data 20%"
   ]
  },
  {
   "cell_type": "code",
   "execution_count": 9,
   "metadata": {},
   "outputs": [],
   "source": [
    "# split the data into 50 % training data + 50%(20%validation + 30% final test data 20%)\n",
    "from sklearn.model_selection import train_test_split\n",
    "X_train, X_test, y_train, y_test = train_test_split(X,y,test_size=0.5)"
   ]
  },
  {
   "cell_type": "code",
   "execution_count": 10,
   "metadata": {},
   "outputs": [],
   "source": [
    "# split the data \n",
    "X_validation, X_validation, y_finaltrain, y_finaltest = train_test_split(X_test,y_test,test_size=0.6)"
   ]
  },
  {
   "cell_type": "code",
   "execution_count": 30,
   "metadata": {},
   "outputs": [
    {
     "data": {
      "text/plain": [
       "(162, 52)"
      ]
     },
     "execution_count": 30,
     "metadata": {},
     "output_type": "execute_result"
    }
   ],
   "source": [
    "X_train.shape"
   ]
  },
  {
   "cell_type": "code",
   "execution_count": null,
   "metadata": {},
   "outputs": [],
   "source": []
  },
  {
   "cell_type": "markdown",
   "metadata": {},
   "source": [
    "# 3. k neareast neighbor\n",
    "\n",
    "https://medium.com/@kbrook10/day-11-machine-learning-using-knn-k-nearest-neighbors-with-scikit-learn-350c3a1402e6"
   ]
  },
  {
   "cell_type": "markdown",
   "metadata": {},
   "source": [
    "## 3. 1 Create and Train the KNN -Model"
   ]
  },
  {
   "cell_type": "code",
   "execution_count": null,
   "metadata": {},
   "outputs": [],
   "source": [
    "# Import module for KNN\n",
    "from sklearn.neighbors import KNeighborsClassifier\n",
    "# Create KNN instance\n",
    "# n_neighbors -> argument identifies the amount of neighbors used to ID classification\n",
    "knn = KNeighborsClassifier(n_neighbors=1)\n",
    "# Fit (i.e. traing) the model\n",
    "knn.fit(X_train, y_train)"
   ]
  },
  {
   "cell_type": "markdown",
   "metadata": {},
   "source": [
    "## 3.2 Make predictions"
   ]
  },
  {
   "cell_type": "code",
   "execution_count": null,
   "metadata": {},
   "outputs": [],
   "source": [
    "# Use the .predict() method to make predictions from the X_test subset\n",
    "pred = knn.predict(X_test)\n",
    "# Review the predictions\n",
    "pred"
   ]
  },
  {
   "cell_type": "markdown",
   "metadata": {},
   "source": [
    "## 3.3 Evaluate the predictions"
   ]
  },
  {
   "cell_type": "code",
   "execution_count": null,
   "metadata": {},
   "outputs": [],
   "source": [
    "# Import classification report and confusion matrix to evaluate predictions\n",
    "from sklearn.metrics import classification_report, confusion_matrix"
   ]
  },
  {
   "cell_type": "code",
   "execution_count": null,
   "metadata": {},
   "outputs": [],
   "source": [
    "# Print out classification report and confusion matrix\n",
    "print(classification_report(y_test, pred))"
   ]
  },
  {
   "cell_type": "code",
   "execution_count": null,
   "metadata": {},
   "outputs": [],
   "source": [
    "# Print out confusion matrix\n",
    "cmat = confusion_matrix(y_test, pred)\n",
    "#print(cmat)\n",
    "print('TP - True Negative {}'.format(cmat[0,0]))\n",
    "print('FP - False Positive {}'.format(cmat[0,1]))\n",
    "print('FN - False Negative {}'.format(cmat[1,0]))\n",
    "print('TP - True Positive {}'.format(cmat[1,1]))\n",
    "print('Accuracy Rate: {}'.format(np.divide(np.sum([cmat[0,0],cmat[1,1]]),np.sum(cmat))))\n",
    "print('Misclassification Rate: {}'.format(np.divide(np.sum([cmat[0,1],cmat[1,0]]),np.sum(cmat))))"
   ]
  },
  {
   "cell_type": "markdown",
   "metadata": {},
   "source": [
    "## 3.4 Evaluate alternative K-values for better predictions"
   ]
  },
  {
   "cell_type": "code",
   "execution_count": null,
   "metadata": {},
   "outputs": [],
   "source": [
    "# Generate function to add error rates of KNN with various k-values\n",
    "# error_rate -> empty list to gather error rates at various k-values\n",
    "# for loop -> loops through k values 1 to 39\n",
    "# knn -> creates instance of KNeighborsClassifier with various k\n",
    "# knn.fit -> trains the model\n",
    "# pred_i -> conducts predictions from model on test subset\n",
    "# error_rate.append -> adds error rate of model with various k-value, using the average where prediction not\n",
    "# equal to the test values\n",
    "error_rate = []\n",
    "for i in range(1,40):\n",
    "    \n",
    "    knn = KNeighborsClassifier(n_neighbors=i)\n",
    "    knn.fit(X_train, y_train)\n",
    "    pred_i = knn.predict(X_test)\n",
    "    error_rate.append(np.mean(pred_i != y_test))"
   ]
  },
  {
   "cell_type": "markdown",
   "metadata": {},
   "source": [
    "## 3.5 Plot Error Rate"
   ]
  },
  {
   "cell_type": "code",
   "execution_count": null,
   "metadata": {},
   "outputs": [],
   "source": [
    "# Configure and plot error rate over k values\n",
    "plt.figure(figsize=(10,4))\n",
    "plt.plot(range(1,40), error_rate, color='blue', linestyle='dashed', marker='o', markerfacecolor='red', markersize=10)\n",
    "plt.title('Error Rate vs. K-Values')\n",
    "plt.xlabel('K-Values')\n",
    "plt.ylabel('Error Rate')"
   ]
  },
  {
   "cell_type": "markdown",
   "metadata": {},
   "source": [
    "## 3.5 Adjust K value per error rate evaluations"
   ]
  },
  {
   "cell_type": "code",
   "execution_count": null,
   "metadata": {},
   "outputs": [],
   "source": [
    "# Retrain model using optimal k-value\n",
    "knn = KNeighborsClassifier(n_neighbors=17)\n",
    "knn.fit(X_train, y_train)\n",
    "pred = knn.predict(X_test)"
   ]
  },
  {
   "cell_type": "code",
   "execution_count": null,
   "metadata": {},
   "outputs": [],
   "source": [
    "# Print out classification report and confusion matrix\n",
    "print(classification_report(y_test, pred))"
   ]
  },
  {
   "cell_type": "code",
   "execution_count": null,
   "metadata": {},
   "outputs": [],
   "source": [
    "# Print out confusion matrix\n",
    "cmat = confusion_matrix(y_test, pred)\n",
    "#print(cmat)\n",
    "print('TP - True Negative {}'.format(cmat[0,0]))\n",
    "print('FP - False Positive {}'.format(cmat[0,1]))\n",
    "print('FN - False Negative {}'.format(cmat[1,0]))\n",
    "print('TP - True Positive {}'.format(cmat[1,1]))\n",
    "print('Accuracy Rate: {}'.format(np.divide(np.sum([cmat[0,0],cmat[1,1]]),np.sum(cmat))))\n",
    "print('Misclassification Rate: {}'.format(np.divide(np.sum([cmat[0,1],cmat[1,0]]),np.sum(cmat))))"
   ]
  },
  {
   "cell_type": "code",
   "execution_count": null,
   "metadata": {},
   "outputs": [],
   "source": []
  },
  {
   "cell_type": "markdown",
   "metadata": {},
   "source": [
    "# 4.Decision tree\n",
    "http://nbviewer.jupyter.org/github/rasbt/pattern_classification/blob/master/machine_learning/decision_trees/decision-tree-cheatsheet.ipynb"
   ]
  },
  {
   "cell_type": "code",
   "execution_count": null,
   "metadata": {},
   "outputs": [],
   "source": [
    "for depth in range(1,10):\n",
    "    clf = tree.DecisionTreeClassifier(max_depth=depth)\n",
    "    t0 = time()\n",
    "    clf.fit(X_train, y_train)\n",
    "    train_time = time() - t0\n",
    "    clf_pred = clf.predict(X_test)\n",
    "    print(\"Unnormalized - Max Depth:\",depth)\n",
    "    print(\"Train time:\", round(train_time,6))\n",
    "    #accuracy_score(y_true, y_pred.round(), normalize=False)\n",
    "    print(\"Accuracy:\",round(accuracy_score(y_test,clf_pred.round()),3))\n",
    "    print(classification_report(y_test,clf_pred.round()))"
   ]
  },
  {
   "cell_type": "code",
   "execution_count": null,
   "metadata": {},
   "outputs": [],
   "source": [
    "print(\"random forest\")\n",
    "for estimator in [5,20, 30, 40]:\n",
    "    clf = RandomForestClassifier(n_estimators=estimator ,max_depth=2, random_state=0)\n",
    "    clf.fit(X_train, y_train)\n",
    "    clf_pred_test = clf.predict(X_test)\n",
    "    clf_pred_train = clf.predict(X_train)\n",
    "    print(\"Accuracy train:\",round(accuracy_score(y_train,clf_pred_train.round()),4))\n",
    "    print(\"Accuracy test:\",round(accuracy_score(y_test,clf_pred_test.round()),4))\n",
    "\n",
    "\n",
    "\n"
   ]
  },
  {
   "cell_type": "code",
   "execution_count": null,
   "metadata": {},
   "outputs": [],
   "source": []
  },
  {
   "cell_type": "code",
   "execution_count": null,
   "metadata": {},
   "outputs": [],
   "source": []
  },
  {
   "cell_type": "code",
   "execution_count": null,
   "metadata": {},
   "outputs": [],
   "source": []
  },
  {
   "cell_type": "markdown",
   "metadata": {},
   "source": [
    "## 5 . Neural network"
   ]
  },
  {
   "cell_type": "code",
   "execution_count": null,
   "metadata": {},
   "outputs": [],
   "source": [
    "from sklearn.neural_network import MLPClassifier"
   ]
  },
  {
   "cell_type": "code",
   "execution_count": null,
   "metadata": {},
   "outputs": [],
   "source": [
    "clf = MLPClassifier(solver='lbfgs', alpha=1e-5, hidden_layer_sizes=(100, 20), random_state=1)"
   ]
  },
  {
   "cell_type": "code",
   "execution_count": null,
   "metadata": {},
   "outputs": [],
   "source": [
    "clf.fit(X_train, y_train)"
   ]
  },
  {
   "cell_type": "code",
   "execution_count": null,
   "metadata": {},
   "outputs": [],
   "source": [
    "clf_pred_test = clf.predict(X_test)\n",
    "clf_pred_train = clf.predict(X_train)\n",
    "print(\"Accuracy train:\",round(accuracy_score(y_train,clf_pred_train.round()),4))\n",
    "print(\"Accuracy test:\",round(accuracy_score(y_test,clf_pred_test.round()),4))\n",
    "\n"
   ]
  },
  {
   "cell_type": "code",
   "execution_count": null,
   "metadata": {},
   "outputs": [],
   "source": []
  },
  {
   "cell_type": "code",
   "execution_count": null,
   "metadata": {},
   "outputs": [],
   "source": [
    "import sys\n",
    "!conda install --yes --prefix {sys.prefix} keras"
   ]
  },
  {
   "cell_type": "markdown",
   "metadata": {},
   "source": [
    "# 5 LSTM"
   ]
  },
  {
   "cell_type": "code",
   "execution_count": 11,
   "metadata": {},
   "outputs": [
    {
     "name": "stderr",
     "output_type": "stream",
     "text": [
      "/Users/sifangyou/anaconda3/lib/python3.6/site-packages/h5py/__init__.py:36: FutureWarning: Conversion of the second argument of issubdtype from `float` to `np.floating` is deprecated. In future, it will be treated as `np.float64 == np.dtype(float).type`.\n",
      "  from ._conv import register_converters as _register_converters\n",
      "Using TensorFlow backend.\n"
     ]
    }
   ],
   "source": [
    "from keras.layers import LSTM"
   ]
  },
  {
   "cell_type": "code",
   "execution_count": 12,
   "metadata": {},
   "outputs": [],
   "source": [
    "from keras.models import Sequential\n",
    "\n",
    "model = Sequential()"
   ]
  },
  {
   "cell_type": "code",
   "execution_count": 32,
   "metadata": {},
   "outputs": [
    {
     "name": "stdout",
     "output_type": "stream",
     "text": [
      "(162, 52) (162, 52) (162, 1) (162, 1)\n"
     ]
    }
   ],
   "source": [
    "print(X_train.shape, X_test.shape, y_train.shape, y_test.shape)"
   ]
  },
  {
   "cell_type": "code",
   "execution_count": null,
   "metadata": {},
   "outputs": [],
   "source": []
  },
  {
   "cell_type": "code",
   "execution_count": null,
   "metadata": {},
   "outputs": [],
   "source": []
  },
  {
   "cell_type": "code",
   "execution_count": 37,
   "metadata": {},
   "outputs": [],
   "source": [
    "from keras.layers import Dense\n",
    "model = Sequential()\n",
    "model.add(LSTM(32, input_shape=(162, 3)))\n",
    "model.add(Dense(1))"
   ]
  },
  {
   "cell_type": "code",
   "execution_count": 38,
   "metadata": {},
   "outputs": [],
   "source": [
    "model.compile(loss='categorical_crossentropy',\n",
    "              optimizer='sgd',\n",
    "              metrics=['accuracy'])\n"
   ]
  },
  {
   "cell_type": "code",
   "execution_count": 39,
   "metadata": {},
   "outputs": [
    {
     "name": "stdout",
     "output_type": "stream",
     "text": [
      "_________________________________________________________________\n",
      "Layer (type)                 Output Shape              Param #   \n",
      "=================================================================\n",
      "lstm_4 (LSTM)                (None, 32)                4608      \n",
      "_________________________________________________________________\n",
      "dense_7 (Dense)              (None, 1)                 33        \n",
      "=================================================================\n",
      "Total params: 4,641\n",
      "Trainable params: 4,641\n",
      "Non-trainable params: 0\n",
      "_________________________________________________________________\n",
      "None\n"
     ]
    }
   ],
   "source": [
    "print(model.summary())"
   ]
  },
  {
   "cell_type": "code",
   "execution_count": 40,
   "metadata": {},
   "outputs": [
    {
     "ename": "AttributeError",
     "evalue": "'DataFrame' object has no attribute 'reshape'",
     "output_type": "error",
     "traceback": [
      "\u001b[0;31m---------------------------------------------------------------------------\u001b[0m",
      "\u001b[0;31mAttributeError\u001b[0m                            Traceback (most recent call last)",
      "\u001b[0;32m<ipython-input-40-c5da870b1596>\u001b[0m in \u001b[0;36m<module>\u001b[0;34m()\u001b[0m\n\u001b[1;32m      1\u001b[0m \u001b[0;31m# x_train and y_train are Numpy arrays --just like in the Scikit-Learn API.\u001b[0m\u001b[0;34m\u001b[0m\u001b[0;34m\u001b[0m\u001b[0m\n\u001b[0;32m----> 2\u001b[0;31m \u001b[0mmodel\u001b[0m\u001b[0;34m.\u001b[0m\u001b[0mfit\u001b[0m\u001b[0;34m(\u001b[0m\u001b[0mX_train\u001b[0m\u001b[0;34m.\u001b[0m\u001b[0mreshape\u001b[0m\u001b[0;34m(\u001b[0m\u001b[0;36m1\u001b[0m\u001b[0;34m,\u001b[0m\u001b[0;36m162\u001b[0m\u001b[0;34m,\u001b[0m\u001b[0;36m52\u001b[0m\u001b[0;34m)\u001b[0m\u001b[0;34m,\u001b[0m \u001b[0my_train\u001b[0m\u001b[0;34m.\u001b[0m\u001b[0mreshape\u001b[0m\u001b[0;34m(\u001b[0m\u001b[0;36m1\u001b[0m\u001b[0;34m,\u001b[0m\u001b[0;36m162\u001b[0m\u001b[0;34m,\u001b[0m\u001b[0;36m1\u001b[0m\u001b[0;34m)\u001b[0m\u001b[0;34m,\u001b[0m \u001b[0mepochs\u001b[0m\u001b[0;34m=\u001b[0m\u001b[0;36m5\u001b[0m\u001b[0;34m,\u001b[0m \u001b[0mbatch_size\u001b[0m\u001b[0;34m=\u001b[0m\u001b[0;36m32\u001b[0m\u001b[0;34m)\u001b[0m\u001b[0;34m\u001b[0m\u001b[0m\n\u001b[0m",
      "\u001b[0;32m~/anaconda3/lib/python3.6/site-packages/pandas/core/generic.py\u001b[0m in \u001b[0;36m__getattr__\u001b[0;34m(self, name)\u001b[0m\n\u001b[1;32m   4370\u001b[0m             \u001b[0;32mif\u001b[0m \u001b[0mself\u001b[0m\u001b[0;34m.\u001b[0m\u001b[0m_info_axis\u001b[0m\u001b[0;34m.\u001b[0m\u001b[0m_can_hold_identifiers_and_holds_name\u001b[0m\u001b[0;34m(\u001b[0m\u001b[0mname\u001b[0m\u001b[0;34m)\u001b[0m\u001b[0;34m:\u001b[0m\u001b[0;34m\u001b[0m\u001b[0m\n\u001b[1;32m   4371\u001b[0m                 \u001b[0;32mreturn\u001b[0m \u001b[0mself\u001b[0m\u001b[0;34m[\u001b[0m\u001b[0mname\u001b[0m\u001b[0;34m]\u001b[0m\u001b[0;34m\u001b[0m\u001b[0m\n\u001b[0;32m-> 4372\u001b[0;31m             \u001b[0;32mreturn\u001b[0m \u001b[0mobject\u001b[0m\u001b[0;34m.\u001b[0m\u001b[0m__getattribute__\u001b[0m\u001b[0;34m(\u001b[0m\u001b[0mself\u001b[0m\u001b[0;34m,\u001b[0m \u001b[0mname\u001b[0m\u001b[0;34m)\u001b[0m\u001b[0;34m\u001b[0m\u001b[0m\n\u001b[0m\u001b[1;32m   4373\u001b[0m \u001b[0;34m\u001b[0m\u001b[0m\n\u001b[1;32m   4374\u001b[0m     \u001b[0;32mdef\u001b[0m \u001b[0m__setattr__\u001b[0m\u001b[0;34m(\u001b[0m\u001b[0mself\u001b[0m\u001b[0;34m,\u001b[0m \u001b[0mname\u001b[0m\u001b[0;34m,\u001b[0m \u001b[0mvalue\u001b[0m\u001b[0;34m)\u001b[0m\u001b[0;34m:\u001b[0m\u001b[0;34m\u001b[0m\u001b[0m\n",
      "\u001b[0;31mAttributeError\u001b[0m: 'DataFrame' object has no attribute 'reshape'"
     ]
    }
   ],
   "source": [
    "# x_train and y_train are Numpy arrays --just like in the Scikit-Learn API.\n",
    "model.fit(X_train.reshape(1,162,52), y_train.reshape(1,162,1), epochs=5, batch_size=32)\n"
   ]
  },
  {
   "cell_type": "code",
   "execution_count": null,
   "metadata": {},
   "outputs": [],
   "source": []
  },
  {
   "cell_type": "markdown",
   "metadata": {},
   "source": [
    "# 6 .classifier = NaiveBayesClassifier.train(train_set)"
   ]
  },
  {
   "cell_type": "code",
   "execution_count": null,
   "metadata": {},
   "outputs": [],
   "source": []
  }
 ],
 "metadata": {
  "kernelspec": {
   "display_name": "Python 3",
   "language": "python",
   "name": "python3"
  },
  "language_info": {
   "codemirror_mode": {
    "name": "ipython",
    "version": 3
   },
   "file_extension": ".py",
   "mimetype": "text/x-python",
   "name": "python",
   "nbconvert_exporter": "python",
   "pygments_lexer": "ipython3",
   "version": "3.6.5"
  }
 },
 "nbformat": 4,
 "nbformat_minor": 2
}
