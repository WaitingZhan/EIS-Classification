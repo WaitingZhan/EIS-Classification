{
 "cells": [
  {
   "cell_type": "markdown",
   "metadata": {},
   "source": [
    "# 1 . concatenate Imaginary resistance and Real resistance\n",
    "![title](.\\Figure\\Concatenate Feature.png)\n",
    "\n"
   ]
  },
  {
   "cell_type": "code",
   "execution_count": 1,
   "metadata": {},
   "outputs": [],
   "source": [
    "import pandas as pd\n",
    "import glob\n",
    "import numpy as np\n",
    "import seaborn as sns"
   ]
  },
  {
   "cell_type": "code",
   "execution_count": null,
   "metadata": {},
   "outputs": [],
   "source": [
    "def concatenate(pathIm,pathRm):\n",
    "    Im = pd.read_csv(pathIm)\n",
    "    df1 = pd.DataFrame(Im)\n",
    "    Imag = df1.dropna(axis='columns')\n",
    "    Rm = pd.read_csv(pathRm)\n",
    "    df2 = pd.DataFrame(Rm)\n",
    "    Real = df2.dropna(axis='columns')\n",
    "    result = pd.concat([Imag, Real], axis=1, join_axes=[Imag.index])\n",
    "    print(\"shape of Im : \", Imag.shape, \"  Shape of Rm :\", Real.shape , \"shape of result:\", result.shape)\n",
    "    return result"
   ]
  },
  {
   "cell_type": "code",
   "execution_count": 2,
   "metadata": {},
   "outputs": [],
   "source": [
    "def category(path1,path2):\n",
    "    m1 = pd.read_csv(path1)\n",
    "    df1 = pd.DataFrame(m1)\n",
    "    material1 = df1.dropna(axis='columns')\n",
    "    m2 = pd.read_csv(path2)\n",
    "    df2 = pd.DataFrame(m2)\n",
    "    material2 = df2.dropna(axis='columns')\n",
    "    result = material1.append(material2)\n",
    "    print(\"shape of Im : \", material1.shape, \"  Shape of Rm :\", material2.shape , \"shape of result:\", result.shape)\n",
    "    return result"
   ]
  },
  {
   "cell_type": "markdown",
   "metadata": {},
   "source": [
    "## 1.1 a) LSC1"
   ]
  },
  {
   "cell_type": "code",
   "execution_count": null,
   "metadata": {},
   "outputs": [],
   "source": [
    "pathIm ='./NewData/LSC-1Im.csv'\n",
    "pathRm ='./NewData/LSC-1rm.csv'\n",
    "LSC1 = concatenate(pathIm,pathRm)"
   ]
  },
  {
   "cell_type": "code",
   "execution_count": null,
   "metadata": {},
   "outputs": [],
   "source": [
    "LSC1.to_csv(\"./NewData/concatenate/LSC1concatenate.csv\")"
   ]
  },
  {
   "cell_type": "markdown",
   "metadata": {},
   "source": [
    "## 1.1 b)LSC 2"
   ]
  },
  {
   "cell_type": "code",
   "execution_count": null,
   "metadata": {},
   "outputs": [],
   "source": [
    "pathIm ='./NewData/LSC-2im.csv'\n",
    "pathRm ='./NewData/LSC-2rm.csv'\n",
    "LSC2 = concatenate(pathIm,pathRm)"
   ]
  },
  {
   "cell_type": "code",
   "execution_count": null,
   "metadata": {},
   "outputs": [],
   "source": [
    "LSC2.to_csv(\"./NewData/concatenate/LSC2concatenate.csv\")"
   ]
  },
  {
   "cell_type": "markdown",
   "metadata": {},
   "source": [
    "## 1.2 a)LSCF 1"
   ]
  },
  {
   "cell_type": "code",
   "execution_count": null,
   "metadata": {},
   "outputs": [],
   "source": [
    "pathIm ='./NewData/LSCF-1im.csv'\n",
    "pathRm ='./NewData/LSCF-1rm.csv'\n",
    "LSCF1 = concatenate(pathIm,pathRm)\n",
    "LSCF1.to_csv(\"./NewData/concatenate/LSCF1concatenate.csv\")"
   ]
  },
  {
   "cell_type": "markdown",
   "metadata": {},
   "source": [
    "## 1.2 b)LSCF 2"
   ]
  },
  {
   "cell_type": "code",
   "execution_count": null,
   "metadata": {},
   "outputs": [],
   "source": [
    "pathIm ='./NewData/LSCF-2im.csv'\n",
    "pathRm ='./NewData/LSCF-2rm.csv'\n",
    "LSCF2 = concatenate(pathIm,pathRm)\n",
    "LSCF2.to_csv(\"./NewData/concatenate/LSCF2concatenate.csv\")"
   ]
  },
  {
   "cell_type": "code",
   "execution_count": null,
   "metadata": {},
   "outputs": [],
   "source": []
  },
  {
   "cell_type": "markdown",
   "metadata": {},
   "source": [
    "## 1.3 a)SBSC 1"
   ]
  },
  {
   "cell_type": "code",
   "execution_count": null,
   "metadata": {},
   "outputs": [],
   "source": [
    "pathIm ='./NewData/SBSC-1im.csv'\n",
    "pathRm ='./NewData/SBSC-1rm.csv'\n",
    "SBSC1 = concatenate(pathIm,pathRm)\n",
    "SBSC1.to_csv(\"./NewData/concatenate/SBSC1concatenate.csv\")"
   ]
  },
  {
   "cell_type": "code",
   "execution_count": null,
   "metadata": {},
   "outputs": [],
   "source": []
  },
  {
   "cell_type": "code",
   "execution_count": null,
   "metadata": {},
   "outputs": [],
   "source": []
  },
  {
   "cell_type": "markdown",
   "metadata": {},
   "source": [
    "## 1.3 b)SBSC 2"
   ]
  },
  {
   "cell_type": "code",
   "execution_count": null,
   "metadata": {},
   "outputs": [],
   "source": [
    "pathIm ='./NewData/SBSC-2im.csv'\n",
    "pathRm ='./NewData/SBSC-2rm.csv'\n",
    "SBSC2 = concatenate(pathIm,pathRm)\n",
    "SBSC2.to_csv(\"./NewData/concatenate/SBSC2concatenate.csv\")"
   ]
  },
  {
   "cell_type": "code",
   "execution_count": null,
   "metadata": {},
   "outputs": [],
   "source": []
  },
  {
   "cell_type": "markdown",
   "metadata": {},
   "source": [
    "# 2. Category\n",
    "![title](.\\Figure\\Category.png)"
   ]
  },
  {
   "cell_type": "markdown",
   "metadata": {},
   "source": [
    "# 2.1 LSC"
   ]
  },
  {
   "cell_type": "code",
   "execution_count": 3,
   "metadata": {},
   "outputs": [
    {
     "name": "stdout",
     "output_type": "stream",
     "text": [
      "shape of Im :  (64, 91)   Shape of Rm : (66, 91) shape of result: (130, 91)\n",
      "Data save to /NewData/category/LSC.csv \n"
     ]
    }
   ],
   "source": [
    "pathlsc1 ='./NewData/concatenate/LSC1concatenate.csv'\n",
    "pathlsc2 ='./NewData/concatenate/LSC2concatenate.csv'\n",
    "LSC = category(pathlsc1,pathlsc2)\n",
    "LSC.to_csv(\"./NewData/category/LSC.csv\")\n",
    "print(\"Data save to /NewData/category/LSC.csv \")"
   ]
  },
  {
   "cell_type": "markdown",
   "metadata": {},
   "source": [
    "# 2.2 LSCF"
   ]
  },
  {
   "cell_type": "code",
   "execution_count": 4,
   "metadata": {},
   "outputs": [
    {
     "name": "stdout",
     "output_type": "stream",
     "text": [
      "shape of Im :  (43, 109)   Shape of Rm : (39, 109) shape of result: (82, 109)\n",
      "Data save to /NewData/category/LSCF.csv \n"
     ]
    }
   ],
   "source": [
    "pathlscf1 ='./NewData/concatenate/LSCF1concatenate.csv'\n",
    "pathlscf2 ='./NewData/concatenate/LSCF2concatenate.csv'\n",
    "LSCF = category(pathlscf1,pathlscf2)\n",
    "LSCF.to_csv(\"./NewData/category/LSCF.csv\")\n",
    "print(\"Data save to /NewData/category/LSCF.csv \")"
   ]
  },
  {
   "cell_type": "markdown",
   "metadata": {},
   "source": [
    "# 2.3 SBSC"
   ]
  },
  {
   "cell_type": "code",
   "execution_count": 5,
   "metadata": {},
   "outputs": [
    {
     "name": "stdout",
     "output_type": "stream",
     "text": [
      "shape of Im :  (50, 55)   Shape of Rm : (62, 55) shape of result: (112, 55)\n",
      "Data save to /NewData/category/SBSC.csv \n"
     ]
    }
   ],
   "source": [
    "pathsbsc1 ='./NewData/concatenate/SBSC1concatenate.csv'\n",
    "pathsbsc2 ='./NewData/concatenate/SBSC2concatenate.csv'\n",
    "SBSC = category(pathsbsc1,pathsbsc2)\n",
    "SBSC.to_csv(\"./NewData/category/SBSC.csv\")\n",
    "print(\"Data save to /NewData/category/SBSC.csv \")"
   ]
  },
  {
   "cell_type": "code",
   "execution_count": null,
   "metadata": {},
   "outputs": [],
   "source": []
  },
  {
   "cell_type": "code",
   "execution_count": null,
   "metadata": {},
   "outputs": [],
   "source": []
  },
  {
   "cell_type": "markdown",
   "metadata": {},
   "source": []
  },
  {
   "cell_type": "code",
   "execution_count": null,
   "metadata": {},
   "outputs": [],
   "source": []
  }
 ],
 "metadata": {
  "kernelspec": {
   "display_name": "Python 3",
   "language": "python",
   "name": "python3"
  },
  "language_info": {
   "codemirror_mode": {
    "name": "ipython",
    "version": 3
   },
   "file_extension": ".py",
   "mimetype": "text/x-python",
   "name": "python",
   "nbconvert_exporter": "python",
   "pygments_lexer": "ipython3",
   "version": "3.6.5"
  }
 },
 "nbformat": 4,
 "nbformat_minor": 2
}
